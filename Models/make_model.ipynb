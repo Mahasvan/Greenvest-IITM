{
 "cells": [
  {
   "cell_type": "code",
   "execution_count": null,
   "id": "initial_id",
   "metadata": {
    "collapsed": true,
    "is_executing": true
   },
   "outputs": [],
   "source": [
    "import math\n",
    "import pandas as pd\n",
    "from sklearn.preprocessing import MinMaxScaler\n",
    "from sklearn.model_selection import train_test_split\n",
    "from sklearn.tree import DecisionTreeClassifier\n",
    "from sklearn.metrics import accuracy_score, classification_report"
   ]
  },
  {
   "cell_type": "code",
   "execution_count": null,
   "outputs": [],
   "source": [
    "PRINCIPAL = 10_00_000\n",
    "Z_FACTOR = 5\n",
    "K_VALUE = 0.8\n",
    "ERI = 0.05\n",
    "EFI = 0\n",
    "THRESHOLD = 0.75\n"
   ],
   "metadata": {
    "collapsed": false
   },
   "id": "7ade63b71ad3354"
  },
  {
   "cell_type": "code",
   "execution_count": null,
   "outputs": [],
   "source": [
    "def preprocess_data(file_path):\n",
    "    return pd.read_csv(file_path).iloc[:2000]"
   ],
   "metadata": {
    "collapsed": false
   },
   "id": "d1ecb9ca7a9e4253"
  },
  {
   "cell_type": "code",
   "execution_count": null,
   "outputs": [],
   "source": [
    "def calculate_x(row, principal, k_value, data):\n",
    "    beta = 1\n",
    "    P_in = principal\n",
    "    Z = Z_FACTOR\n",
    "    k = k_value * row[\"Emissions\"] + 1\n",
    "    E_r_i = ERI * principal\n",
    "    E_f_i = EFI\n",
    "    I_in = len(data[data[\"industry\"] == row[\"industry\"]])\n",
    "    D_sp = {\"Low\": 0, \"Medium\": 1, \"High\": 2}.get(row[\"disaster_risk\"], 0)\n",
    "\n",
    "    gamma = row[\"importance\"] if row[\"importance\"] != 0 else 0.001\n",
    "    denominator = max(k * gamma * math.log(abs(k * gamma)), 1)\n",
    "\n",
    "    numerator = P_in * Z\n",
    "    InvestmentVsCapital = math.log(I_in / P_in) if I_in > P_in else 0\n",
    "\n",
    "    X = (\n",
    "        beta / P_in * ((numerator / denominator) - E_r_i * k)\n",
    "        - E_f_i\n",
    "        + InvestmentVsCapital\n",
    "        - (D_sp * 1000)\n",
    "    )\n",
    "    return X"
   ],
   "metadata": {
    "collapsed": false
   },
   "id": "6f6497005b0fe4d5"
  },
  {
   "cell_type": "code",
   "execution_count": null,
   "outputs": [],
   "source": [
    "data = preprocess_data(\"companies_final.csv\")\n",
    "data[\"X\"] = data.apply(calculate_x, axis=1, args=(PRINCIPAL, K_VALUE, data))\n",
    "scaler = MinMaxScaler(feature_range=(0, 1))\n",
    "data[\"X\"] = scaler.fit_transform(data[[\"X\"]])\n",
    "\n",
    "q1 = data[\"X\"].quantile(0.25)\n",
    "q3 = data[\"X\"].quantile(0.75)\n",
    "iqr = q3 - q1\n",
    "data = data[(data[\"X\"] >= q1 - 1.5 * iqr) & (data[\"X\"] <= q3 + 1.5 * iqr)]"
   ],
   "metadata": {
    "collapsed": false
   },
   "id": "61b021bc21d49a1d"
  },
  {
   "cell_type": "code",
   "execution_count": null,
   "outputs": [],
   "source": [
    "industry_codes = {\n",
    "    \"information technology and services\": 0,\n",
    "    \"military\": 1,\n",
    "    \"accounting\": 2,\n",
    "    \"retail\": 3,\n",
    "    \"computer software\": 4,\n",
    "    \"telecommunications\": 5,\n",
    "    \"defense & space\": 6,\n",
    "    \"financial services\": 7,\n",
    "    \"management consulting\": 8,\n",
    "    \"banking\": 9,\n",
    "}"
   ],
   "metadata": {
    "collapsed": false
   },
   "id": "a182c80daf602bfb"
  },
  {
   "cell_type": "code",
   "execution_count": null,
   "outputs": [],
   "source": [
    "data[\"industry\"] = data[\"industry\"].map(industry_codes)\n",
    "data[\"disaster_risk\"] = data[\"disaster_risk\"].map({\"Low\": 1, \"Medium\": 2, \"High\": 3})\n",
    "\n",
    "data[\"Invest\"] = (data[\"X\"] > THRESHOLD).astype(int)\n",
    "X = data.drop([\"Invest\", \"name\", \"Unnamed: 0\", \"locality\", \"country\", \"X\"], axis=1)\n",
    "Y = data[\"Invest\"]\n"
   ],
   "metadata": {
    "collapsed": false
   },
   "id": "d5407c8634401e2b"
  },
  {
   "cell_type": "code",
   "execution_count": null,
   "outputs": [],
   "source": [
    "X_train, X_test, y_train, y_test = train_test_split(\n",
    "    X, Y, test_size=0.3, random_state=42\n",
    ")\n",
    "\n",
    "dt_classifier = DecisionTreeClassifier()\n",
    "dt_classifier.fit(X_train, y_train)"
   ],
   "metadata": {
    "collapsed": false
   },
   "id": "300bf631f6a69fb3"
  },
  {
   "cell_type": "code",
   "execution_count": null,
   "outputs": [],
   "source": [
    "# accuracy report\n",
    "y_pred = dt_classifier.predict(X_test)\n",
    "print(\"Accuracy: \", accuracy_score(y_test, y_pred))\n",
    "print(classification_report(y_test, y_pred))"
   ],
   "metadata": {
    "collapsed": false
   },
   "id": "8f602a7e4b2bee6"
  },
  {
   "cell_type": "code",
   "execution_count": null,
   "outputs": [],
   "source": [
    "import pickle\n",
    "\n",
    "with open(\"model.pkl\", \"wb\") as f:\n",
    "    pickle.dump(dt_classifier, f)"
   ],
   "metadata": {
    "collapsed": false
   },
   "id": "b59e500400a2700a"
  }
 ],
 "metadata": {
  "kernelspec": {
   "display_name": "Python 3",
   "language": "python",
   "name": "python3"
  },
  "language_info": {
   "codemirror_mode": {
    "name": "ipython",
    "version": 2
   },
   "file_extension": ".py",
   "mimetype": "text/x-python",
   "name": "python",
   "nbconvert_exporter": "python",
   "pygments_lexer": "ipython2",
   "version": "2.7.6"
  }
 },
 "nbformat": 4,
 "nbformat_minor": 5
}
